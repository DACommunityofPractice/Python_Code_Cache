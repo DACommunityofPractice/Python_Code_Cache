{
 "cells": [
  {
   "cell_type": "markdown",
   "metadata": {},
   "source": [
    "Welcome to April's Python snippet! Here below you will find all of the code used in this month's tutorial. "
   ]
  },
  {
   "cell_type": "code",
   "execution_count": null,
   "metadata": {},
   "outputs": [],
   "source": [
    "#import the csv library\n",
    "\n",
    "import csv"
   ]
  },
  {
   "cell_type": "code",
   "execution_count": null,
   "metadata": {},
   "outputs": [],
   "source": [
    "#import the data in csv format\n",
    "\n",
    "with open(\"sample_insurance_dataset.csv\", 'r') as my_data:\n",
    "    reader = csv.reader(my_data)\n",
    "    for row in reader:\n",
    "        print(row)"
   ]
  },
  {
   "cell_type": "code",
   "execution_count": null,
   "metadata": {},
   "outputs": [],
   "source": [
    "#The csv library also has some other functions available. csv.DictReader is a useful class as it will map information\n",
    "#to a field name. You can use the optional fieldnames parameter, if no then it will just use the first row of the file. \n",
    "\n",
    "with open(\"sample_insurance_dataset.csv\", 'r') as my_data:\n",
    "    reader = csv.DictReader(my_data)\n",
    "    for row in reader:\n",
    "        print(row['age'],row['children'])"
   ]
  },
  {
   "cell_type": "code",
   "execution_count": null,
   "metadata": {},
   "outputs": [],
   "source": [
    "#import the pandas library with the alias pd and read in the csv file.\n",
    "\n",
    "import pandas as pd\n",
    "\n",
    "my_data = pd.read_csv(\"sample_insurance_dataset.csv\", sep=',')"
   ]
  },
  {
   "cell_type": "code",
   "execution_count": null,
   "metadata": {},
   "outputs": [],
   "source": [
    "#print the my_data dataframe\n",
    "\n",
    "print(my_data)"
   ]
  },
  {
   "cell_type": "code",
   "execution_count": null,
   "metadata": {},
   "outputs": [],
   "source": []
  }
 ],
 "metadata": {
  "kernelspec": {
   "display_name": "Python 3",
   "language": "python",
   "name": "python3"
  },
  "language_info": {
   "codemirror_mode": {
    "name": "ipython",
    "version": 3
   },
   "file_extension": ".py",
   "mimetype": "text/x-python",
   "name": "python",
   "nbconvert_exporter": "python",
   "pygments_lexer": "ipython3",
   "version": "3.6.5"
  }
 },
 "nbformat": 4,
 "nbformat_minor": 2
}
